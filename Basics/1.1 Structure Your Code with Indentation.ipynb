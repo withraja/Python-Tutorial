{
 "cells": [
  {
   "cell_type": "markdown",
   "metadata": {},
   "source": [
    "## Structure your code with **Indentation**"
   ]
  },
  {
   "cell_type": "markdown",
   "metadata": {},
   "source": [
    "Lihat blok kode dibawah ini  \n",
    "Jika dirun, tidak akan menghasilkan apa-apa "
   ]
  },
  {
   "cell_type": "code",
   "execution_count": 3,
   "metadata": {},
   "outputs": [],
   "source": [
    "def five(x):\n",
    "    x = 5\n",
    "    return x\n",
    "    print (five(3))   # print terbaca oleh python sebagai anak dari fungsi five(x)"
   ]
  },
  {
   "cell_type": "markdown",
   "metadata": {},
   "source": [
    "Tetapi jika kita menghapus **spasi**  \n",
    "*print* akan terbaca sebagai fungsi baru yang menggunakan five(x) sebagai parameter"
   ]
  },
  {
   "cell_type": "code",
   "execution_count": 5,
   "metadata": {},
   "outputs": [
    {
     "name": "stdout",
     "output_type": "stream",
     "text": [
      "5\n"
     ]
    }
   ],
   "source": [
    "def five(x):\n",
    "    x = 5\n",
    "    return x\n",
    "print (five(3))       # print terbaca oleh python sebagai fungsi yang berbeda dengan five(x)"
   ]
  }
 ],
 "metadata": {
  "kernelspec": {
   "display_name": "Python 3.11.0 64-bit",
   "language": "python",
   "name": "python3"
  },
  "language_info": {
   "codemirror_mode": {
    "name": "ipython",
    "version": 3
   },
   "file_extension": ".py",
   "mimetype": "text/x-python",
   "name": "python",
   "nbconvert_exporter": "python",
   "pygments_lexer": "ipython3",
   "version": "3.11.0"
  },
  "vscode": {
   "interpreter": {
    "hash": "64924d34f5c95f261818ee0e41d58b43741dcf0b72677c10b726c1fe86046c0c"
   }
  }
 },
 "nbformat": 4,
 "nbformat_minor": 2
}
