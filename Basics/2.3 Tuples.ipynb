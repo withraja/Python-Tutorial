{
 "cells": [
  {
   "cell_type": "markdown",
   "metadata": {},
   "source": [
    "## Tuples"
   ]
  },
  {
   "cell_type": "markdown",
   "metadata": {},
   "source": [
    "dibuat dengan **parentheses( )** biasa"
   ]
  },
  {
   "cell_type": "markdown",
   "metadata": {
    "collapsed": true
   },
   "source": [
    "Create a tuple, called \"Cars\", with elements \"BMW\", \"Dodge\", and \"Ford\". "
   ]
  },
  {
   "cell_type": "code",
   "execution_count": null,
   "metadata": {
    "collapsed": true
   },
   "outputs": [],
   "source": [
    "Cars = (\"BMW\", \"Dodge\", \"Ford\")"
   ]
  },
  {
   "cell_type": "markdown",
   "metadata": {},
   "source": [
    "Access the second element of this tuple.  \n",
    "Indexing dengan **kurung siku**"
   ]
  },
  {
   "cell_type": "code",
   "execution_count": null,
   "metadata": {
    "collapsed": true
   },
   "outputs": [],
   "source": [
    "Cars[1]"
   ]
  },
  {
   "cell_type": "markdown",
   "metadata": {},
   "source": [
    "## Split Tuples"
   ]
  },
  {
   "cell_type": "markdown",
   "metadata": {},
   "source": [
    "Call a method that would allow you to extract the provided name and age separately. Then print the \"name\" and \"age\" values to see if you worked correctly.  \n",
    "dengan method **split**"
   ]
  },
  {
   "cell_type": "code",
   "execution_count": null,
   "metadata": {},
   "outputs": [],
   "source": [
    "(name, age) = \"Peter,24\".split(\",\")   # delimiternya adalah koma"
   ]
  },
  {
   "cell_type": "markdown",
   "metadata": {},
   "source": [
    "> Tuple digunakan karena fitur ini  \n",
    "> Tuple bisa mengakses file separated value yang sering digunakan data analis atau dikenal dengan CSV "
   ]
  },
  {
   "cell_type": "code",
   "execution_count": null,
   "metadata": {
    "collapsed": true
   },
   "outputs": [],
   "source": [
    "print(name)\n",
    "print(age)"
   ]
  },
  {
   "cell_type": "markdown",
   "metadata": {},
   "source": [
    "## Tuples in Function"
   ]
  },
  {
   "cell_type": "markdown",
   "metadata": {},
   "source": [
    "Create a function that takes as arguments the two values of a rectangle and then returns the Area and the Perimeter of the rectangle.\n",
    "Call the function with arguments 2 and 10 to verify it worked correctly."
   ]
  },
  {
   "cell_type": "code",
   "execution_count": null,
   "metadata": {
    "collapsed": true
   },
   "outputs": [],
   "source": [
    "def rectangle(a, b):\n",
    "    Perimeter = (a*2 + b*2)\n",
    "    Area = a * b\n",
    "    print(\"Area and Perimeter:\")\n",
    "    return Perimeter, Area"
   ]
  },
  {
   "cell_type": "markdown",
   "metadata": {},
   "source": [
    "> *return* di function hanya bisa digunakan satu kali  \n",
    "> karenanya digabung dengan *tuple*, yang bisa menampung value lebih dari satu"
   ]
  },
  {
   "cell_type": "code",
   "execution_count": null,
   "metadata": {},
   "outputs": [],
   "source": [
    "rectangle(2, 4)"
   ]
  }
 ],
 "metadata": {
  "anaconda-cloud": {},
  "kernelspec": {
   "display_name": "Python 3.11.0 64-bit",
   "language": "python",
   "name": "python3"
  },
  "language_info": {
   "codemirror_mode": {
    "name": "ipython",
    "version": 3
   },
   "file_extension": ".py",
   "mimetype": "text/x-python",
   "name": "python",
   "nbconvert_exporter": "python",
   "pygments_lexer": "ipython3",
   "version": "3.11.0"
  },
  "vscode": {
   "interpreter": {
    "hash": "64924d34f5c95f261818ee0e41d58b43741dcf0b72677c10b726c1fe86046c0c"
   }
  }
 },
 "nbformat": 4,
 "nbformat_minor": 1
}
